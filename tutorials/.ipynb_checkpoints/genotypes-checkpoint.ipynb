{
 "cells": [
  {
   "cell_type": "markdown",
   "metadata": {},
   "source": [
    "# Python Basics"
   ]
  },
  {
   "cell_type": "markdown",
   "metadata": {},
   "source": [
    "_This notebook will allow you to practice some basic skills for using python: working with different data types, using various data structures, reading and writing text files, using conditionals, control flow structures, creating functions, and of course working with ipython notebooks._\n",
    "\n",
    "\n",
    "__Data File:__ The file `genos.txt` has a column of genotypes.\n",
    "There are 3 types of genotypes: `'AA'`, `'AG'`, `'GG'`, and missing values are denoted by `'NA'`\n",
    "\n",
    "I. Read in the data and store the contents in a list called __genos__\n",
    "\n",
    "II. Calculate the number of occurrences of each genotype, and store the results in a dictionary called __geno_counts__. Use the following 3 approaches:\n",
    "1. Use a **for** loop to count the genotypes (store the result in a dictionary)\n",
    "2. Get the same counts but this time using the `count()` method\n",
    "3. Another alternative is to use `Counter` from __Collections__\n",
    "\n",
    "III. Once you've counted the genotypes, make a function __get_proportions()__ that takes `geno_counts` and returns a dictionary with relative frequencies (i.e. proportions) of genotypes.\n",
    "\n",
    "IV. Convert the string value in __genos__ into integers ('NA' remains as 'NA') and put them in a new list called **numeric_genos**:\n",
    "- `'AA'` = 0\n",
    "- `'AG'` = 1\n",
    "- `'GG'` = 2\n",
    "- `'NA'` = `'NA'`\n",
    "\n",
    "V. Write the data in **numeric_genos** to a text file called `genos_int.txt`\n",
    "\n",
    "VI. Finally, convert (and open) your notebook to html by running these commands from the shell:\n",
    "\n",
    "```shell\n",
    "ipython nbconvert genotypes.ipynb\n",
    "open genotypes.html\n",
    "```"
   ]
  },
  {
   "cell_type": "code",
   "execution_count": 1,
   "metadata": {
    "collapsed": true
   },
   "outputs": [],
   "source": [
    "# things to be imported\n",
    "from __future__ import division  # if you use python 2.?\n",
    "from collections import Counter"
   ]
  },
  {
   "cell_type": "markdown",
   "metadata": {},
   "source": [
    "---\n",
    "\n",
    "## I. Reading a text file"
   ]
  },
  {
   "cell_type": "markdown",
   "metadata": {},
   "source": [
    "Some refs about Reading Files:\n",
    "\n",
    "- File Operations: [https://github.com/dlab-berkeley/python-fundamentals/blob/master/cheat-sheets/12-Files.ipynb](https://github.com/dlab-berkeley/python-fundamentals/blob/master/cheat-sheets/12-Files.ipynb)\n",
    "- Reading Text Files: [http://www.jarrodmillman.com/rcsds/lectures/reading_text_files.html](http://www.jarrodmillman.com/rcsds/lectures/reading_text_files.html)"
   ]
  },
  {
   "cell_type": "code",
   "execution_count": 2,
   "metadata": {
    "collapsed": false
   },
   "outputs": [],
   "source": [
    "# open 'genos.txt' and store values in \"genotypes\"\n",
    "# YOUR CODE"
   ]
  },
  {
   "cell_type": "markdown",
   "metadata": {},
   "source": [
    "---\n",
    "\n",
    "## II. Counting Genotypes"
   ]
  },
  {
   "cell_type": "code",
   "execution_count": 3,
   "metadata": {
    "collapsed": false
   },
   "outputs": [],
   "source": [
    "# For loop to count occurrences of AA, AG, GG, NA\n",
    "# (store results in dictionary \"geno_counts\")\n",
    "# YOUR CODE"
   ]
  },
  {
   "cell_type": "markdown",
   "metadata": {},
   "source": [
    "### Using count method"
   ]
  },
  {
   "cell_type": "code",
   "execution_count": 4,
   "metadata": {
    "collapsed": false
   },
   "outputs": [],
   "source": [
    "# YOUR CODE"
   ]
  },
  {
   "cell_type": "markdown",
   "metadata": {},
   "source": [
    "### Using Counter from collections"
   ]
  },
  {
   "cell_type": "code",
   "execution_count": 5,
   "metadata": {
    "collapsed": false
   },
   "outputs": [],
   "source": [
    "# YOUR CODE"
   ]
  },
  {
   "cell_type": "markdown",
   "metadata": {},
   "source": [
    "---\n",
    "\n",
    "## III. Function to Calculate Proportions"
   ]
  },
  {
   "cell_type": "code",
   "execution_count": 6,
   "metadata": {
    "collapsed": false
   },
   "outputs": [],
   "source": [
    "# Write a function \"get_proportions()\"\n",
    "# input: geno_counts (dictionary)\n",
    "# output: dictionary of proportions\n",
    "# YOUR CODE"
   ]
  },
  {
   "cell_type": "code",
   "execution_count": 7,
   "metadata": {
    "collapsed": false
   },
   "outputs": [],
   "source": [
    "# test your function:\n",
    "# get_proportions(geno_counts)"
   ]
  },
  {
   "cell_type": "markdown",
   "metadata": {},
   "source": [
    "---\n",
    "\n",
    "## IV. Converting to numeric genotypes"
   ]
  },
  {
   "cell_type": "code",
   "execution_count": 8,
   "metadata": {
    "collapsed": false
   },
   "outputs": [],
   "source": [
    "# convert genotypes: AA = 0, AG = 1, GG = 2, NA = NA\n",
    "# (create a list called \"numeric_genos\")\n",
    "# YOUR CODE"
   ]
  },
  {
   "cell_type": "markdown",
   "metadata": {},
   "source": [
    "---\n",
    "\n",
    "## V. Write Numeric Genotypes to a text file"
   ]
  },
  {
   "cell_type": "code",
   "execution_count": 9,
   "metadata": {
    "collapsed": false
   },
   "outputs": [],
   "source": [
    "# write values in \"numeric_genos\" to a file \"genos_int.txt\"\n",
    "# YOUR CODE"
   ]
  }
 ],
 "metadata": {
  "kernelspec": {
   "display_name": "Python 2",
   "language": "python",
   "name": "python2"
  },
  "language_info": {
   "codemirror_mode": {
    "name": "ipython",
    "version": 2
   },
   "file_extension": ".py",
   "mimetype": "text/x-python",
   "name": "python",
   "nbconvert_exporter": "python",
   "pygments_lexer": "ipython2",
   "version": "2.7.11"
  }
 },
 "nbformat": 4,
 "nbformat_minor": 0
}
