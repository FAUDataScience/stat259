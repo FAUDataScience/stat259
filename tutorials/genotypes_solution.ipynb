{
 "cells": [
  {
   "cell_type": "markdown",
   "metadata": {},
   "source": [
    "# Python Basics"
   ]
  },
  {
   "cell_type": "markdown",
   "metadata": {},
   "source": [
    "_This notebook will allow you to practice some basic skills for using python: working with different data types, using various data structures, reading and writing text files, using conditionals, control flow structures, creating functions, and of course working with ipython notebooks._\n",
    "\n",
    "\n",
    "__Data File:__ The file `genos.txt` has a column of genotypes.\n",
    "There are 3 types of genotypes: `'AA'`, `'AG'`, `'GG'`, and missing values are denoted by `'NA'`\n",
    "\n",
    "I. Read in the data and store the contents in a list called __genos__\n",
    "\n",
    "II. Calculate the number of occurrences of each genotype, and store the results in a dictionary called __geno_counts__. Use the following 3 approaches:\n",
    "1. Use a **for** loop to count the genotypes (store the result in a dictionary)\n",
    "2. Get the same counts but this time using the `count()` method\n",
    "3. Another alternative is to use `Counter` from __Collections__\n",
    "\n",
    "III. Once you've counted the genotypes, make a function __get_proportions()__ that takes `geno_counts` and returns a dictionary with relative frequencies (i.e. proportions) of genotypes.\n",
    "\n",
    "IV. Convert the string value in __genos__ into integers ('NA' remains as 'NA') and put them in a new list called **numeric_genos**:\n",
    "- `'AA'` = 0\n",
    "- `'AG'` = 1\n",
    "- `'GG'` = 2\n",
    "- `'NA'` = `'NA'`\n",
    "\n",
    "V. Write the data in **numeric_genos** to a text file called `genos_int.txt`\n",
    "\n",
    "VI. Finally, convert (and open) your notebook to html by running these commands from the shell:\n",
    "\n",
    "```shell\n",
    "ipython nbconvert genotypes.ipynb\n",
    "open genotypes.html\n",
    "```"
   ]
  },
  {
   "cell_type": "code",
   "execution_count": 1,
   "metadata": {
    "collapsed": true
   },
   "outputs": [],
   "source": [
    "# things to be imported\n",
    "from __future__ import division  # if you use python 2.?\n",
    "from collections import Counter"
   ]
  },
  {
   "cell_type": "markdown",
   "metadata": {},
   "source": [
    "---\n",
    "\n",
    "## I. Reading a text file"
   ]
  },
  {
   "cell_type": "markdown",
   "metadata": {},
   "source": [
    "Some refs about Reading Files:\n",
    "\n",
    "- File Operations: [https://github.com/dlab-berkeley/python-fundamentals/blob/master/cheat-sheets/12-Files.ipynb](https://github.com/dlab-berkeley/python-fundamentals/blob/master/cheat-sheets/12-Files.ipynb)\n",
    "- Reading Text Files: [http://www.jarrodmillman.com/rcsds/lectures/reading_text_files.html](http://www.jarrodmillman.com/rcsds/lectures/reading_text_files.html)"
   ]
  },
  {
   "cell_type": "code",
   "execution_count": 2,
   "metadata": {
    "collapsed": false
   },
   "outputs": [],
   "source": [
    "# open 'genos.txt' (in read mode)\n",
    "my_file = open(\"genos.txt\", \"rt\")\n",
    "# empty list\n",
    "genos = []\n",
    "# stripping newline characters\n",
    "for line in my_file:\n",
    "    genos.append(line.strip())\n",
    "# close file connection\n",
    "my_file.close()"
   ]
  },
  {
   "cell_type": "code",
   "execution_count": 3,
   "metadata": {
    "collapsed": false
   },
   "outputs": [
    {
     "data": {
      "text/plain": [
       "1000"
      ]
     },
     "execution_count": 3,
     "metadata": {},
     "output_type": "execute_result"
    }
   ],
   "source": [
    "# how many lines\n",
    "len(genos)"
   ]
  },
  {
   "cell_type": "code",
   "execution_count": 4,
   "metadata": {
    "collapsed": false
   },
   "outputs": [
    {
     "data": {
      "text/plain": [
       "['GG', 'GG', 'AG', 'AG', 'AA']"
      ]
     },
     "execution_count": 4,
     "metadata": {},
     "output_type": "execute_result"
    }
   ],
   "source": [
    "# first 5 lines\n",
    "genos[:5]"
   ]
  },
  {
   "cell_type": "code",
   "execution_count": 5,
   "metadata": {
    "collapsed": false
   },
   "outputs": [
    {
     "data": {
      "text/plain": [
       "['GG', 'AG', 'AG', 'GG', 'AA']"
      ]
     },
     "execution_count": 5,
     "metadata": {},
     "output_type": "execute_result"
    }
   ],
   "source": [
    "# last 5 lines\n",
    "genos[-5:]"
   ]
  },
  {
   "cell_type": "markdown",
   "metadata": {},
   "source": [
    "---\n",
    "\n",
    "## II. Counting Genotypes"
   ]
  },
  {
   "cell_type": "code",
   "execution_count": 42,
   "metadata": {
    "collapsed": false
   },
   "outputs": [
    {
     "data": {
      "text/plain": [
       "{'AA': 339, 'AG': 315, 'GG': 333, 'NA': 13}"
      ]
     },
     "execution_count": 42,
     "metadata": {},
     "output_type": "execute_result"
    }
   ],
   "source": [
    "# count AA, AG, GG, NA\n",
    "count_AA = 0\n",
    "count_AG = 0\n",
    "count_GG = 0\n",
    "count_NA = 0\n",
    "\n",
    "for gen in genos:\n",
    "    if gen == 'AA':\n",
    "        count_AA = count_AA + 1\n",
    "    elif gen == 'AG':\n",
    "        count_AG = count_AG + 1\n",
    "    elif gen == 'GG':\n",
    "        count_GG = count_GG + 1\n",
    "    else:\n",
    "        count_NA = count_NA + 1\n",
    "    geno_counts = {'AA': count_AA, 'AG': count_AG, 'GG': count_GG, 'NA': count_NA}\n",
    "    \n",
    "geno_counts"
   ]
  },
  {
   "cell_type": "markdown",
   "metadata": {},
   "source": [
    "### Using count method"
   ]
  },
  {
   "cell_type": "code",
   "execution_count": 7,
   "metadata": {
    "collapsed": false
   },
   "outputs": [
    {
     "data": {
      "text/plain": [
       "339"
      ]
     },
     "execution_count": 7,
     "metadata": {},
     "output_type": "execute_result"
    }
   ],
   "source": [
    "genos.count('AA')"
   ]
  },
  {
   "cell_type": "markdown",
   "metadata": {},
   "source": [
    "### Using Counter from collections"
   ]
  },
  {
   "cell_type": "code",
   "execution_count": 9,
   "metadata": {
    "collapsed": false
   },
   "outputs": [],
   "source": [
    "b = Counter(genos)"
   ]
  },
  {
   "cell_type": "code",
   "execution_count": 10,
   "metadata": {
    "collapsed": false
   },
   "outputs": [
    {
     "data": {
      "text/plain": [
       "Counter({'AA': 339, 'AG': 315, 'GG': 333, 'NA': 13})"
      ]
     },
     "execution_count": 10,
     "metadata": {},
     "output_type": "execute_result"
    }
   ],
   "source": [
    "b"
   ]
  },
  {
   "cell_type": "code",
   "execution_count": 12,
   "metadata": {
    "collapsed": false
   },
   "outputs": [
    {
     "data": {
      "text/plain": [
       "339"
      ]
     },
     "execution_count": 12,
     "metadata": {},
     "output_type": "execute_result"
    }
   ],
   "source": [
    "b['AA']"
   ]
  },
  {
   "cell_type": "markdown",
   "metadata": {},
   "source": [
    "---\n",
    "\n",
    "## III. Function to Calculate Proportions"
   ]
  },
  {
   "cell_type": "code",
   "execution_count": 19,
   "metadata": {
    "collapsed": false
   },
   "outputs": [
    {
     "data": {
      "text/plain": [
       "{'AA': 339, 'AG': 315, 'GG': 333, 'NA': 13}"
      ]
     },
     "execution_count": 19,
     "metadata": {},
     "output_type": "execute_result"
    }
   ],
   "source": [
    "geno_counts"
   ]
  },
  {
   "cell_type": "code",
   "execution_count": 22,
   "metadata": {
    "collapsed": false
   },
   "outputs": [
    {
     "data": {
      "text/plain": [
       "[339, 333, 315, 13]"
      ]
     },
     "execution_count": 22,
     "metadata": {},
     "output_type": "execute_result"
    }
   ],
   "source": [
    "geno_counts.values()"
   ]
  },
  {
   "cell_type": "code",
   "execution_count": 43,
   "metadata": {
    "collapsed": true
   },
   "outputs": [],
   "source": [
    "def get_proportions(counts):\n",
    "    \"\"\"computes the proportions of each genotype\n",
    "        - input: dictionary with counts\n",
    "        - output: dictionary with proportions\n",
    "    \"\"\"\n",
    "    # total \n",
    "    total = 0\n",
    "    for value in counts.itervalues():\n",
    "        total = total + value\n",
    "    # proportions\n",
    "    proportions = []\n",
    "    for value in counts.values():\n",
    "        proportions.append(value / total)\n",
    "    # output\n",
    "    geno_props = dict(zip(counts.keys(), proportions))\n",
    "    return(geno_props)"
   ]
  },
  {
   "cell_type": "code",
   "execution_count": 44,
   "metadata": {
    "collapsed": false
   },
   "outputs": [
    {
     "data": {
      "text/plain": [
       "{'AA': 0.339, 'AG': 0.315, 'GG': 0.333, 'NA': 0.013}"
      ]
     },
     "execution_count": 44,
     "metadata": {},
     "output_type": "execute_result"
    }
   ],
   "source": [
    "get_proportions(geno_counts)"
   ]
  },
  {
   "cell_type": "markdown",
   "metadata": {},
   "source": [
    "---\n",
    "\n",
    "## IV. Converting to numeric genotypes"
   ]
  },
  {
   "cell_type": "code",
   "execution_count": 15,
   "metadata": {
    "collapsed": false
   },
   "outputs": [
    {
     "data": {
      "text/plain": [
       "Counter({0: 339, 1: 315, 2: 333, 'NA': 13})"
      ]
     },
     "execution_count": 15,
     "metadata": {},
     "output_type": "execute_result"
    }
   ],
   "source": [
    "# count AA, AG, GG, NA\n",
    "numeric_genos = []\n",
    "\n",
    "for gen in genos:\n",
    "    if gen == 'AA':\n",
    "        numeric_genos.append(0)\n",
    "    elif gen == 'AG':\n",
    "        numeric_genos.append(1)\n",
    "    elif gen == 'GG':\n",
    "        numeric_genos.append(2)\n",
    "    else:\n",
    "        numeric_genos.append('NA')\n",
    "    \n",
    "# check it\n",
    "Counter(numeric_genos)"
   ]
  },
  {
   "cell_type": "markdown",
   "metadata": {},
   "source": [
    "---\n",
    "\n",
    "## V. Write Numeric Genotypes to a text file"
   ]
  },
  {
   "cell_type": "code",
   "execution_count": 16,
   "metadata": {
    "collapsed": false
   },
   "outputs": [],
   "source": [
    "new_file = open(\"genos_int.txt\", \"w\")\n",
    "\n",
    "for gen in numeric_genos:\n",
    "    new_file.write(str(gen) + '\\n')\n",
    "new_file.close()"
   ]
  }
 ],
 "metadata": {
  "kernelspec": {
   "display_name": "Python 2",
   "language": "python",
   "name": "python2"
  },
  "language_info": {
   "codemirror_mode": {
    "name": "ipython",
    "version": 2
   },
   "file_extension": ".py",
   "mimetype": "text/x-python",
   "name": "python",
   "nbconvert_exporter": "python",
   "pygments_lexer": "ipython2",
   "version": "2.7.11"
  }
 },
 "nbformat": 4,
 "nbformat_minor": 0
}
